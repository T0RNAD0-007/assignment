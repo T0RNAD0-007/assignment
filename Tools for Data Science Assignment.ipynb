{
    "cells": [
        {
            "cell_type": "markdown",
            "metadata": {
                "collapsed": true
            },
            "source": "# My Jupyter Notebook on IBM Watson Studio"
        },
        {
            "cell_type": "markdown",
            "metadata": {},
            "source": "**Shivam Bhongade**  \nApplication Developer"
        },
        {
            "cell_type": "markdown",
            "metadata": {},
            "source": "*I am interested in Data Science because I want to pursue my career in this Field.*  \n*This Field is very Interesting as it's helping us solve a wide range of problems.*"
        },
        {
            "cell_type": "markdown",
            "metadata": {},
            "source": "### Printing String."
        },
        {
            "cell_type": "code",
            "execution_count": 3,
            "metadata": {},
            "outputs": [
                {
                    "name": "stdout",
                    "output_type": "stream",
                    "text": "Happy Learning Data Science.\n"
                }
            ],
            "source": "print(\"Happy Learning Data Science.\")"
        },
        {
            "cell_type": "markdown",
            "metadata": {},
            "source": "##### Libraries to learn\n- Sci-kit learn\n- Pandas\n- Numpy\n- Matplotlib\n\n***\n\n#### [IBM Watson Studio](https://www.ibm.com/in-en/cloud/watson-studio)\n\n___\n\n#### Python code Snippet\n```python\nprint(\"Happy Learning Data Science\")\n```\n\n#### Table\n| Name | Gender | Age |\n|------|:------:|----:|\n| Hi   | Male   |  3  |\n| Hii  | Female |  2  |\n| Hiii | Male   |  1  |"
        }
    ],
    "metadata": {
        "kernelspec": {
            "display_name": "Python 3.6",
            "language": "python",
            "name": "python3"
        },
        "language_info": {
            "codemirror_mode": {
                "name": "ipython",
                "version": 3
            },
            "file_extension": ".py",
            "mimetype": "text/x-python",
            "name": "python",
            "nbconvert_exporter": "python",
            "pygments_lexer": "ipython3",
            "version": "3.6.9"
        }
    },
    "nbformat": 4,
    "nbformat_minor": 1
}